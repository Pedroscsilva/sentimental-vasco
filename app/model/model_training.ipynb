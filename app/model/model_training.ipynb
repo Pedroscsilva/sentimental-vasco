{
 "cells": [
  {
   "cell_type": "code",
   "execution_count": 5,
   "metadata": {},
   "outputs": [],
   "source": [
    "import pandas as pd\n",
    "\n",
    "X_df = pd.read_feather('./preprocessed_data/x_new.feather')\n",
    "y = pd.read_csv('./preprocessed_data/y_new.csv')\n",
    "y = y['score']"
   ]
  },
  {
   "cell_type": "code",
   "execution_count": 12,
   "metadata": {},
   "outputs": [
    {
     "data": {
      "text/plain": [
       "0.8029197080291971"
      ]
     },
     "execution_count": 12,
     "metadata": {},
     "output_type": "execute_result"
    }
   ],
   "source": [
    "from sklearn.linear_model import SGDClassifier\n",
    "from sklearn.model_selection import train_test_split\n",
    "from sklearn.metrics import accuracy_score\n",
    "\n",
    "X_train, X_test, y_train, y_test = train_test_split(\n",
    "    X_df, y, test_size=0.2, stratify=y\n",
    ")\n",
    "X_train = X_train.dropna()\n",
    "X_test = X_test.dropna()\n",
    "\n",
    "import random\n",
    "\n",
    "sgd = SGDClassifier(\n",
    "    loss='log_loss',\n",
    "    warm_start=True,\n",
    "    n_jobs=-1\n",
    ")\n",
    "\n",
    "sgd.fit(X_train, y_train)\n",
    "\n",
    "y_pred = sgd.predict(X_test)\n",
    "accuracy_score(y_test, y_pred)"
   ]
  },
  {
   "cell_type": "code",
   "execution_count": 13,
   "metadata": {},
   "outputs": [
    {
     "name": "stdout",
     "output_type": "stream",
     "text": [
      "Ensemble model accuracy after tuning: 0.8029197080291971\n"
     ]
    }
   ],
   "source": [
    "# # DOESN'T IMPROVE ACCURACY\n",
    "# grid = {\n",
    "#     'alpha': [0.0001, 0.001, 0.01, 0.1],\n",
    "#     'learning_rate': ['constant', 'optimal', 'invscaling', 'adaptive'],\n",
    "#     'eta0': [0.001, 0.01, 0.1],\n",
    "# }\n",
    "\n",
    "# new_sgd = SGDClassifier(loss='log_loss', penalty='l2', max_iter=1000, tol=1e-3, random_state=42, n_jobs=-1)\n",
    "\n",
    "# from sklearn.model_selection import GridSearchCV\n",
    "\n",
    "# search = GridSearchCV(new_sgd, grid)\n",
    "# search.fit(X_train, y_train)\n",
    "\n",
    "# model = search.best_estimator_\n",
    "# y_pred = model.predict(X_test)\n",
    "# accuracy = accuracy_score(y_test, y_pred)\n",
    "# print(f'Ensemble model accuracy after tuning: {accuracy}')"
   ]
  },
  {
   "cell_type": "code",
   "execution_count": 4,
   "metadata": {},
   "outputs": [
    {
     "name": "stdout",
     "output_type": "stream",
     "text": [
      "Fitting 5 folds for each of 10 candidates, totalling 50 fits\n",
      "[CV] END nb__alpha=0.5, rf__max_depth=None, rf__max_features=sqrt, rf__min_samples_leaf=2, rf__min_samples_split=2, rf__n_estimators=100, sgd__alpha=0.001, sgd__eta0=0.1, sgd__learning_rate=optimal; total time=   3.0s\n",
      "[CV] END nb__alpha=0.5, rf__max_depth=None, rf__max_features=sqrt, rf__min_samples_leaf=2, rf__min_samples_split=2, rf__n_estimators=100, sgd__alpha=0.001, sgd__eta0=0.1, sgd__learning_rate=optimal; total time=   3.1s\n",
      "[CV] END nb__alpha=0.5, rf__max_depth=None, rf__max_features=sqrt, rf__min_samples_leaf=2, rf__min_samples_split=2, rf__n_estimators=100, sgd__alpha=0.001, sgd__eta0=0.1, sgd__learning_rate=optimal; total time=   3.3s\n",
      "[CV] END nb__alpha=0.5, rf__max_depth=None, rf__max_features=sqrt, rf__min_samples_leaf=2, rf__min_samples_split=2, rf__n_estimators=100, sgd__alpha=0.001, sgd__eta0=0.1, sgd__learning_rate=optimal; total time=   3.5s\n",
      "[CV] END nb__alpha=0.5, rf__max_depth=None, rf__max_features=sqrt, rf__min_samples_leaf=2, rf__min_samples_split=2, rf__n_estimators=100, sgd__alpha=0.001, sgd__eta0=0.1, sgd__learning_rate=optimal; total time=   3.0s\n",
      "[CV] END nb__alpha=2.0, rf__max_depth=30, rf__max_features=log2, rf__min_samples_leaf=2, rf__min_samples_split=5, rf__n_estimators=200, sgd__alpha=0.001, sgd__eta0=0.001, sgd__learning_rate=adaptive; total time=   3.6s\n",
      "[CV] END nb__alpha=2.0, rf__max_depth=30, rf__max_features=log2, rf__min_samples_leaf=2, rf__min_samples_split=5, rf__n_estimators=200, sgd__alpha=0.001, sgd__eta0=0.001, sgd__learning_rate=adaptive; total time=   3.6s\n",
      "[CV] END nb__alpha=2.0, rf__max_depth=30, rf__max_features=log2, rf__min_samples_leaf=2, rf__min_samples_split=5, rf__n_estimators=200, sgd__alpha=0.001, sgd__eta0=0.001, sgd__learning_rate=adaptive; total time=   4.2s\n",
      "[CV] END nb__alpha=2.0, rf__max_depth=30, rf__max_features=log2, rf__min_samples_leaf=2, rf__min_samples_split=5, rf__n_estimators=200, sgd__alpha=0.001, sgd__eta0=0.001, sgd__learning_rate=adaptive; total time=   3.8s\n",
      "[CV] END nb__alpha=2.0, rf__max_depth=30, rf__max_features=log2, rf__min_samples_leaf=2, rf__min_samples_split=5, rf__n_estimators=200, sgd__alpha=0.001, sgd__eta0=0.001, sgd__learning_rate=adaptive; total time=   3.6s\n",
      "[CV] END nb__alpha=1.5, rf__max_depth=10, rf__max_features=sqrt, rf__min_samples_leaf=2, rf__min_samples_split=10, rf__n_estimators=300, sgd__alpha=0.0001, sgd__eta0=0.01, sgd__learning_rate=optimal; total time=   3.3s\n",
      "[CV] END nb__alpha=0.5, rf__max_depth=30, rf__max_features=sqrt, rf__min_samples_leaf=1, rf__min_samples_split=2, rf__n_estimators=300, sgd__alpha=0.0001, sgd__eta0=0.1, sgd__learning_rate=constant; total time=   5.0s\n",
      "[CV] END nb__alpha=0.5, rf__max_depth=30, rf__max_features=sqrt, rf__min_samples_leaf=1, rf__min_samples_split=2, rf__n_estimators=300, sgd__alpha=0.0001, sgd__eta0=0.1, sgd__learning_rate=constant; total time=   5.1s\n",
      "[CV] END nb__alpha=0.5, rf__max_depth=30, rf__max_features=sqrt, rf__min_samples_leaf=1, rf__min_samples_split=2, rf__n_estimators=300, sgd__alpha=0.0001, sgd__eta0=0.1, sgd__learning_rate=constant; total time=   5.7s\n",
      "[CV] END nb__alpha=0.5, rf__max_depth=30, rf__max_features=sqrt, rf__min_samples_leaf=1, rf__min_samples_split=2, rf__n_estimators=300, sgd__alpha=0.0001, sgd__eta0=0.1, sgd__learning_rate=constant; total time=   5.8s\n",
      "[CV] END nb__alpha=0.5, rf__max_depth=30, rf__max_features=sqrt, rf__min_samples_leaf=1, rf__min_samples_split=2, rf__n_estimators=300, sgd__alpha=0.0001, sgd__eta0=0.1, sgd__learning_rate=constant; total time=   5.9s\n",
      "[CV] END nb__alpha=1.5, rf__max_depth=10, rf__max_features=sqrt, rf__min_samples_leaf=2, rf__min_samples_split=10, rf__n_estimators=300, sgd__alpha=0.0001, sgd__eta0=0.01, sgd__learning_rate=optimal; total time=   3.3s\n",
      "[CV] END nb__alpha=1.5, rf__max_depth=10, rf__max_features=sqrt, rf__min_samples_leaf=2, rf__min_samples_split=10, rf__n_estimators=300, sgd__alpha=0.0001, sgd__eta0=0.01, sgd__learning_rate=optimal; total time=   3.3s\n",
      "[CV] END nb__alpha=0.5, rf__max_depth=None, rf__max_features=sqrt, rf__min_samples_leaf=4, rf__min_samples_split=5, rf__n_estimators=100, sgd__alpha=0.1, sgd__eta0=0.1, sgd__learning_rate=invscaling; total time=   1.5s\n",
      "[CV] END nb__alpha=0.5, rf__max_depth=None, rf__max_features=sqrt, rf__min_samples_leaf=4, rf__min_samples_split=5, rf__n_estimators=100, sgd__alpha=0.1, sgd__eta0=0.1, sgd__learning_rate=invscaling; total time=   1.6s\n",
      "[CV] END nb__alpha=0.5, rf__max_depth=None, rf__max_features=sqrt, rf__min_samples_leaf=4, rf__min_samples_split=5, rf__n_estimators=100, sgd__alpha=0.1, sgd__eta0=0.1, sgd__learning_rate=invscaling; total time=   1.6s\n",
      "[CV] END nb__alpha=0.5, rf__max_depth=None, rf__max_features=sqrt, rf__min_samples_leaf=4, rf__min_samples_split=5, rf__n_estimators=100, sgd__alpha=0.1, sgd__eta0=0.1, sgd__learning_rate=invscaling; total time=   1.7s\n",
      "[CV] END nb__alpha=0.5, rf__max_depth=None, rf__max_features=sqrt, rf__min_samples_leaf=4, rf__min_samples_split=5, rf__n_estimators=100, sgd__alpha=0.1, sgd__eta0=0.1, sgd__learning_rate=invscaling; total time=   1.4s\n",
      "[CV] END nb__alpha=1.5, rf__max_depth=10, rf__max_features=sqrt, rf__min_samples_leaf=2, rf__min_samples_split=10, rf__n_estimators=300, sgd__alpha=0.0001, sgd__eta0=0.01, sgd__learning_rate=optimal; total time=   3.2s\n",
      "[CV] END nb__alpha=1.5, rf__max_depth=10, rf__max_features=sqrt, rf__min_samples_leaf=2, rf__min_samples_split=10, rf__n_estimators=300, sgd__alpha=0.0001, sgd__eta0=0.01, sgd__learning_rate=optimal; total time=   3.4s\n",
      "[CV] END nb__alpha=0.5, rf__max_depth=10, rf__max_features=sqrt, rf__min_samples_leaf=2, rf__min_samples_split=2, rf__n_estimators=300, sgd__alpha=0.1, sgd__eta0=0.001, sgd__learning_rate=invscaling; total time=   3.0s\n",
      "[CV] END nb__alpha=0.5, rf__max_depth=10, rf__max_features=sqrt, rf__min_samples_leaf=2, rf__min_samples_split=2, rf__n_estimators=300, sgd__alpha=0.1, sgd__eta0=0.001, sgd__learning_rate=invscaling; total time=   2.9s\n",
      "[CV] END nb__alpha=0.5, rf__max_depth=10, rf__max_features=sqrt, rf__min_samples_leaf=2, rf__min_samples_split=2, rf__n_estimators=300, sgd__alpha=0.1, sgd__eta0=0.001, sgd__learning_rate=invscaling; total time=   3.0s\n",
      "[CV] END nb__alpha=0.5, rf__max_depth=30, rf__max_features=sqrt, rf__min_samples_leaf=4, rf__min_samples_split=5, rf__n_estimators=300, sgd__alpha=0.01, sgd__eta0=0.01, sgd__learning_rate=optimal; total time=   2.6s\n",
      "[CV] END nb__alpha=0.5, rf__max_depth=10, rf__max_features=sqrt, rf__min_samples_leaf=2, rf__min_samples_split=2, rf__n_estimators=300, sgd__alpha=0.1, sgd__eta0=0.001, sgd__learning_rate=invscaling; total time=   3.2s\n",
      "[CV] END nb__alpha=0.5, rf__max_depth=10, rf__max_features=sqrt, rf__min_samples_leaf=2, rf__min_samples_split=2, rf__n_estimators=300, sgd__alpha=0.1, sgd__eta0=0.001, sgd__learning_rate=invscaling; total time=   3.3s\n",
      "[CV] END nb__alpha=0.5, rf__max_depth=30, rf__max_features=sqrt, rf__min_samples_leaf=4, rf__min_samples_split=5, rf__n_estimators=300, sgd__alpha=0.01, sgd__eta0=0.01, sgd__learning_rate=optimal; total time=   3.2s\n",
      "[CV] END nb__alpha=0.5, rf__max_depth=30, rf__max_features=sqrt, rf__min_samples_leaf=4, rf__min_samples_split=5, rf__n_estimators=300, sgd__alpha=0.01, sgd__eta0=0.01, sgd__learning_rate=optimal; total time=   3.1s\n",
      "[CV] END nb__alpha=0.5, rf__max_depth=30, rf__max_features=sqrt, rf__min_samples_leaf=4, rf__min_samples_split=5, rf__n_estimators=300, sgd__alpha=0.01, sgd__eta0=0.01, sgd__learning_rate=optimal; total time=   3.0s\n",
      "[CV] END nb__alpha=1.0, rf__max_depth=None, rf__max_features=sqrt, rf__min_samples_leaf=2, rf__min_samples_split=2, rf__n_estimators=200, sgd__alpha=0.0001, sgd__eta0=0.01, sgd__learning_rate=optimal; total time=   3.0s\n",
      "[CV] END nb__alpha=0.5, rf__max_depth=30, rf__max_features=sqrt, rf__min_samples_leaf=4, rf__min_samples_split=5, rf__n_estimators=300, sgd__alpha=0.01, sgd__eta0=0.01, sgd__learning_rate=optimal; total time=   3.2s\n",
      "[CV] END nb__alpha=1.0, rf__max_depth=None, rf__max_features=sqrt, rf__min_samples_leaf=2, rf__min_samples_split=2, rf__n_estimators=200, sgd__alpha=0.0001, sgd__eta0=0.01, sgd__learning_rate=optimal; total time=   3.2s\n",
      "[CV] END nb__alpha=1.5, rf__max_depth=30, rf__max_features=log2, rf__min_samples_leaf=4, rf__min_samples_split=5, rf__n_estimators=300, sgd__alpha=0.001, sgd__eta0=0.001, sgd__learning_rate=invscaling; total time=   2.2s\n",
      "[CV] END nb__alpha=1.0, rf__max_depth=None, rf__max_features=sqrt, rf__min_samples_leaf=2, rf__min_samples_split=2, rf__n_estimators=200, sgd__alpha=0.0001, sgd__eta0=0.01, sgd__learning_rate=optimal; total time=   3.1s\n",
      "[CV] END nb__alpha=1.0, rf__max_depth=None, rf__max_features=sqrt, rf__min_samples_leaf=2, rf__min_samples_split=2, rf__n_estimators=200, sgd__alpha=0.0001, sgd__eta0=0.01, sgd__learning_rate=optimal; total time=   3.4s\n",
      "[CV] END nb__alpha=1.5, rf__max_depth=30, rf__max_features=log2, rf__min_samples_leaf=4, rf__min_samples_split=5, rf__n_estimators=300, sgd__alpha=0.001, sgd__eta0=0.001, sgd__learning_rate=invscaling; total time=   2.5s\n",
      "[CV] END nb__alpha=1.0, rf__max_depth=None, rf__max_features=sqrt, rf__min_samples_leaf=2, rf__min_samples_split=2, rf__n_estimators=200, sgd__alpha=0.0001, sgd__eta0=0.01, sgd__learning_rate=optimal; total time=   3.5s\n",
      "[CV] END nb__alpha=1.5, rf__max_depth=30, rf__max_features=log2, rf__min_samples_leaf=4, rf__min_samples_split=5, rf__n_estimators=300, sgd__alpha=0.001, sgd__eta0=0.001, sgd__learning_rate=invscaling; total time=   2.5s\n",
      "[CV] END nb__alpha=1.5, rf__max_depth=30, rf__max_features=log2, rf__min_samples_leaf=4, rf__min_samples_split=5, rf__n_estimators=300, sgd__alpha=0.001, sgd__eta0=0.001, sgd__learning_rate=invscaling; total time=   2.4s\n",
      "[CV] END nb__alpha=1.5, rf__max_depth=30, rf__max_features=log2, rf__min_samples_leaf=4, rf__min_samples_split=5, rf__n_estimators=300, sgd__alpha=0.001, sgd__eta0=0.001, sgd__learning_rate=invscaling; total time=   2.8s\n",
      "[CV] END nb__alpha=1.5, rf__max_depth=30, rf__max_features=log2, rf__min_samples_leaf=2, rf__min_samples_split=10, rf__n_estimators=200, sgd__alpha=0.0001, sgd__eta0=0.1, sgd__learning_rate=invscaling; total time=   2.1s\n",
      "[CV] END nb__alpha=1.5, rf__max_depth=30, rf__max_features=log2, rf__min_samples_leaf=2, rf__min_samples_split=10, rf__n_estimators=200, sgd__alpha=0.0001, sgd__eta0=0.1, sgd__learning_rate=invscaling; total time=   2.2s\n",
      "[CV] END nb__alpha=1.5, rf__max_depth=30, rf__max_features=log2, rf__min_samples_leaf=2, rf__min_samples_split=10, rf__n_estimators=200, sgd__alpha=0.0001, sgd__eta0=0.1, sgd__learning_rate=invscaling; total time=   2.0s\n",
      "[CV] END nb__alpha=1.5, rf__max_depth=30, rf__max_features=log2, rf__min_samples_leaf=2, rf__min_samples_split=10, rf__n_estimators=200, sgd__alpha=0.0001, sgd__eta0=0.1, sgd__learning_rate=invscaling; total time=   1.6s\n",
      "[CV] END nb__alpha=1.5, rf__max_depth=30, rf__max_features=log2, rf__min_samples_leaf=2, rf__min_samples_split=10, rf__n_estimators=200, sgd__alpha=0.0001, sgd__eta0=0.1, sgd__learning_rate=invscaling; total time=   1.4s\n",
      "Ensemble model accuracy after tuning: 0.708029197080292\n",
      "Best parameters: {'sgd__learning_rate': 'optimal', 'sgd__eta0': 0.1, 'sgd__alpha': 0.001, 'rf__n_estimators': 100, 'rf__min_samples_split': 2, 'rf__min_samples_leaf': 2, 'rf__max_features': 'sqrt', 'rf__max_depth': None, 'nb__alpha': 0.5}\n"
     ]
    }
   ],
   "source": [
    "# # DOESN'T IMPROVE ACCURACY\n",
    "# from sklearn.ensemble import VotingClassifier\n",
    "# from sklearn.ensemble import RandomForestClassifier\n",
    "# from sklearn.linear_model import SGDClassifier\n",
    "# from sklearn.naive_bayes import MultinomialNB\n",
    "# from sklearn.model_selection import RandomizedSearchCV\n",
    "# from sklearn.metrics import accuracy_score\n",
    "\n",
    "# sgd = SGDClassifier(loss='log_loss', penalty='l2', max_iter=1000, tol=1e-3, random_state=42, n_jobs=-1)\n",
    "# rf = RandomForestClassifier(n_estimators=100, random_state=42, n_jobs=-1)\n",
    "# nb = MultinomialNB()\n",
    "\n",
    "# ensemble = VotingClassifier(estimators=[\n",
    "#     ('sgd', sgd),\n",
    "#     ('rf', rf),\n",
    "#     ('nb', nb)\n",
    "# ], voting='hard', n_jobs=-1)\n",
    "\n",
    "# param_grid = {\n",
    "#     'sgd__alpha': [0.0001, 0.001, 0.01, 0.1],\n",
    "#     'sgd__learning_rate': ['constant', 'optimal', 'invscaling', 'adaptive'],\n",
    "#     'sgd__eta0': [0.001, 0.01, 0.1],\n",
    "#     'rf__n_estimators': [100, 200, 300],\n",
    "#     'rf__max_depth': [10, 20, 30, None],\n",
    "#     'rf__max_features': ['sqrt', 'log2'],\n",
    "#     'rf__min_samples_split': [2, 5, 10],\n",
    "#     'rf__min_samples_leaf': [1, 2, 4],\n",
    "#     'nb__alpha': [0.5, 1.0, 1.5, 2.0]\n",
    "# }\n",
    "\n",
    "# grid_search = RandomizedSearchCV(estimator=ensemble, param_distributions=param_grid, n_iter250,\n",
    "#                            cv=5, n_jobs=-1, verbose=2, scoring='accuracy')\n",
    "\n",
    "# grid_search.fit(X_train, y_train)\n",
    "\n",
    "# best_params = grid_search.best_params_\n",
    "# best_ensemble = grid_search.best_estimator_\n",
    "\n",
    "# y_pred = best_ensemble.predict(X_test)\n",
    "# accuracy = accuracy_score(y_test, y_pred)\n",
    "# print(f'Ensemble model accuracy after tuning: {accuracy}')\n",
    "# print(f'Best parameters: {best_params}')"
   ]
  },
  {
   "cell_type": "code",
   "execution_count": null,
   "metadata": {},
   "outputs": [
    {
     "data": {
      "text/plain": [
       "['vasco_model.sav']"
      ]
     },
     "execution_count": 72,
     "metadata": {},
     "output_type": "execute_result"
    }
   ],
   "source": [
    "# import joblib\n",
    "\n",
    "# joblib.dump(sgd, 'vasco_model.sav')"
   ]
  }
 ],
 "metadata": {
  "kernelspec": {
   "display_name": ".venv",
   "language": "python",
   "name": "python3"
  },
  "language_info": {
   "codemirror_mode": {
    "name": "ipython",
    "version": 3
   },
   "file_extension": ".py",
   "mimetype": "text/x-python",
   "name": "python",
   "nbconvert_exporter": "python",
   "pygments_lexer": "ipython3",
   "version": "3.12.4"
  }
 },
 "nbformat": 4,
 "nbformat_minor": 2
}
